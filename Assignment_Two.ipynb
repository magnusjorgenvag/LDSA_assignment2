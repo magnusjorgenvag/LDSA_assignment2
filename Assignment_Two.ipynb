{
 "cells": [
  {
   "cell_type": "markdown",
   "id": "947aba1f",
   "metadata": {},
   "source": [
    "## Imports"
   ]
  },
  {
   "cell_type": "code",
   "execution_count": 1,
   "id": "e6cd1c9e",
   "metadata": {},
   "outputs": [],
   "source": [
    "from sklearn.pipeline import Pipeline\n",
    "from sklearn.impute import SimpleImputer\n",
    "from sklearn.preprocessing import MinMaxScaler, PolynomialFeatures, FunctionTransformer\n",
    "from sklearn.linear_model import LinearRegression\n",
    "from sklearn.metrics import mean_absolute_error\n",
    "from sklearn.compose import ColumnTransformer\n",
    "from sklearn.neural_network import MLPRegressor\n",
    "from sklearn.tree import DecisionTreeRegressor\n",
    "from sklearn.model_selection import TimeSeriesSplit\n",
    "import matplotlib.pyplot as plt\n",
    "import numpy as np\n",
    "import joblib\n",
    "import math\n",
    "import mlflow"
   ]
  },
  {
   "cell_type": "markdown",
   "id": "9ca53be6",
   "metadata": {},
   "source": [
    "## Getting the data"
   ]
  },
  {
   "cell_type": "code",
   "execution_count": 3,
   "id": "d6206bfc",
   "metadata": {},
   "outputs": [],
   "source": [
    "from influxdb import InfluxDBClient\n",
    "import pandas as pd\n",
    "\n",
    "client = InfluxDBClient(host = \"influxus.itu.dk\", port =8086, username = \"lsda\", password = \"icanonlyread\")\n",
    "client.switch_database (\"orkney\")\n",
    "\n",
    "def get_df(results):\n",
    "    values = results.raw [\"series\"][0][\"values\"]\n",
    "    columns = results.raw[\"series\"][0][\"columns\"]\n",
    "    df = pd.DataFrame( values , columns = columns ) . set_index (\"time\")\n",
    "    df.index = pd.to_datetime(df.index) # Convert to datetime - index\n",
    "    return df\n",
    "\n",
    "# Get the last 90 days of power generation data\n",
    "generation = client.query (\"SELECT * FROM Generation where time > now()-90d\") # Query written in InfluxQL\n",
    "\n",
    "# Get the last 90 days of weather forecasts with the shortest lead time\n",
    "wind = client.query(\"SELECT * FROM MetForecasts where time > now()-90d and time <= now() and Lead_hours = '1'\") # Query written in InfluxQL\n",
    "\n",
    "gen_df = get_df (generation)\n",
    "wind_df = get_df (wind)"
   ]
  },
  {
   "cell_type": "markdown",
   "id": "396dbcc1",
   "metadata": {},
   "source": [
    "## Methods for custom transformations"
   ]
  },
  {
   "cell_type": "code",
   "execution_count": 4,
   "id": "108dd135",
   "metadata": {},
   "outputs": [],
   "source": [
    "# Convert direction for radian\n",
    "def toRadian(x):\n",
    "    match x:\n",
    "        case 'E':\n",
    "            return math.radians(0)\n",
    "        case 'ENE':\n",
    "            return math.radians(22.5)\n",
    "        case 'NE':\n",
    "            return math.radians(45)\n",
    "        case 'NNE':\n",
    "            return math.radians(67.5)\n",
    "        case 'N':\n",
    "            return math.radians(90)\n",
    "        case 'NNW':\n",
    "            return math.radians(112.5)\n",
    "        case 'NW\"':\n",
    "            return math.radians(135)\n",
    "        case 'WNW':\n",
    "            return math.radians(157.5)\n",
    "        case 'W':\n",
    "            return math.radians(180)\n",
    "        case 'WSW':\n",
    "            return math.radians(202.5)\n",
    "        case 'SW':\n",
    "            return math.radians(225)\n",
    "        case 'SSW':\n",
    "            return math.radians(247.5)\n",
    "        case 'S':\n",
    "            return math.radians(270)\n",
    "        case 'SSE':\n",
    "            return math.radians(292.5)\n",
    "        case 'SE':\n",
    "            return math.radians(315)\n",
    "        case 'ESE':\n",
    "            return math.radians(337.5)\n",
    "\n",
    "# Convert all directions in dataframe 'x' to radian\n",
    "def dfToRadian(x):\n",
    "    return x.applymap(toRadian)\n",
    "    \n",
    "# Perform linear interpolation on datafram 'x'\n",
    "def linearInterpolation(x):\n",
    "    return x.interpolate(method='linear')  "
   ]
  },
  {
   "cell_type": "markdown",
   "id": "db7b2a44",
   "metadata": {},
   "source": [
    "## Merge and split the dataset"
   ]
  },
  {
   "cell_type": "code",
   "execution_count": 5,
   "id": "e8b62b5b",
   "metadata": {},
   "outputs": [],
   "source": [
    "plt.close(\"all\")\n",
    "\n",
    "# For aligning two dataframes on time\n",
    "def mergeOnTime(df1, df2, delta):\n",
    "    combined_df = pd.merge_asof(df1.iloc[:,2:], df2.iloc[:,[0,3]], on=\"time\", tolerance=pd.Timedelta(delta))\n",
    "    combined_df.set_index('time', inplace=True)\n",
    "    return combined_df\n",
    "\n",
    "combined_df = mergeOnTime(gen_df, wind_df, \"3m\")\n",
    "\n",
    "\n",
    "def testSplit(df):\n",
    "    X = df.drop(\"Total\", axis = 1)\n",
    "    y = df[\"Total\"]\n",
    "    tss = TimeSeriesSplit(n_splits = 3)\n",
    "    for train_index, test_index in tss.split(X):\n",
    "        X_train, X_test = X.iloc[train_index, :], X.iloc[test_index,:]\n",
    "        y_train, y_test = y.iloc[train_index], y.iloc[test_index]\n",
    "    return X_train, X_test, y_train, y_test\n",
    "\n",
    "X_train, X_test, y_train, y_test = testSplit(combined_df)"
   ]
  },
  {
   "cell_type": "markdown",
   "id": "5d26081c",
   "metadata": {},
   "source": [
    "## Create pipelines"
   ]
  },
  {
   "cell_type": "code",
   "execution_count": 8,
   "id": "5df31575",
   "metadata": {},
   "outputs": [],
   "source": [
    "# Pipeline converting directions to radians, and performing linear interpolation to fill missing data\n",
    "categorical_pipeline = Pipeline(steps=[\n",
    "    ('one-hot', FunctionTransformer(dfToRadian)),\n",
    "    ('interpolate', FunctionTransformer(linearInterpolation))\n",
    "])\n",
    "\n",
    "# Perform independent transformations on columns \"Direction\" and \"Speed\"\n",
    "column_processor = ColumnTransformer(transformers=[\n",
    "    ('categorical', categorical_pipeline, [\"Direction\"]),\n",
    "    ('interpolate', FunctionTransformer(linearInterpolation), [\"Speed\"])\n",
    "])\n",
    " \n",
    "# Impute the final missing values and scale\n",
    "full_processor = Pipeline(steps=[\n",
    "    ('fill', column_processor),\n",
    "    ('impute', SimpleImputer(strategy='most_frequent')),\n",
    "    (\"scale\", MinMaxScaler())\n",
    "])"
   ]
  },
  {
   "cell_type": "code",
   "execution_count": 35,
   "id": "a04592d3",
   "metadata": {},
   "outputs": [],
   "source": [
    "import os\n",
    "#os.environ[\"AWS_ACCESS_KEY_ID\"] = \"minio\"\n",
    "#os.environ[\"AWS_SECRET_ACCESS_KEY\"] = \"minio123\"\n",
    "#os.environ[\"MLFLOW_S3_ENDPOINT_URL\"] = f\"http://minio-server:9000\"\n",
    "mlflow.set_tracking_uri('http://training.itu.dk:5000/')\n",
    "experiment = mlflow.set_experiment(\"magnj - tracking\")"
   ]
  },
  {
   "cell_type": "markdown",
   "id": "7ad7ed44",
   "metadata": {},
   "source": [
    "## Test different regression models"
   ]
  },
  {
   "cell_type": "code",
   "execution_count": 34,
   "id": "8cfba5a4",
   "metadata": {},
   "outputs": [
    {
     "name": "stdout",
     "output_type": "stream",
     "text": [
      "Polynominal linear regression with degree: 4\n",
      "  RMSE: 4.0398683640699184\n",
      "  MAE: 3.155971196826982\n",
      "  R2: 0.7598943461154408\n"
     ]
    }
   ],
   "source": [
    "import mlflow.sklearn\n",
    "from sklearn.metrics import mean_squared_error, mean_absolute_error, r2_score\n",
    "from urllib.parse import urlparse\n",
    "\n",
    "# Simular pipeline, but transforming PolynomialFeatures \n",
    "def eval_metrics(actual, pred):\n",
    "    rmse = np.sqrt(mean_squared_error(actual, pred))\n",
    "    mae = mean_absolute_error(actual, pred)\n",
    "    r2 = r2_score(actual, pred)\n",
    "    return rmse, mae, r2\n",
    "\n",
    "degree = 4\n",
    "with mlflow.start_run():\n",
    "\n",
    "    poly = PolynomialFeatures(degree=degree, include_bias=False)\n",
    "    linReg = LinearRegression()\n",
    "\n",
    "    polynominal_pipeline = Pipeline(steps=[\n",
    "        (\"preprocessor\", full_processor),\n",
    "        ('polynominal', poly),\n",
    "        ('model', linReg)\n",
    "    ])\n",
    "\n",
    "    # Parameters poly:'degree': 4, 'include_bias': False, 'interaction_only': False, 'order': 'C' \n",
    "    # Parameters linReg:'copy_X': True, 'fit_intercept': True, 'n_jobs': None, 'positive': False\n",
    "\n",
    "    # Estimate error for polynominal pipeline\n",
    "    poly_pipeline_model = polynominal_pipeline.fit(X_train, y_train)\n",
    "    poly_preds = poly_pipeline_model.predict(X_test)\n",
    "    (rmse, mae, r2) = eval_metrics(y_test, poly_preds)\n",
    "    \n",
    "    print(\"Polynominal linear regression with degree: \" + str(degree))\n",
    "    print(\"  RMSE: %s\" % rmse)\n",
    "    print(\"  MAE: %s\" % mae)\n",
    "    print(\"  R2: %s\" % r2)\n",
    "    \n",
    "    mlflow.log_param(\"degree\", 4)\n",
    "    mlflow.log_metric(\"rmse\", rmse)\n",
    "    mlflow.log_metric(\"r2\", r2)\n",
    "    mlflow.log_metric(\"mae\", mae)\n",
    "\n",
    "    tracking_url_type_store = urlparse(mlflow.get_tracking_uri()).scheme\n",
    "\n",
    "    # Model registry does not work with file store\n",
    "    \n",
    "    \"\"\"\n",
    "    if tracking_url_type_store != \"file\":\n",
    "        # Register the model\n",
    "        # There are other ways to use the Model Registry, which depends on the use case,\n",
    "        # please refer to the doc for more information:\n",
    "        # https://mlflow.org/docs/latest/model-registry.html#api-workflow\n",
    "        mlflow.sklearn.log_model(poly_pipeline_model, \"model\", registered_model_name=\"Linear_poly_regression\")\n",
    "    else:\n",
    "        mlflow.sklearn.log_model(poly_pipeline_model, \"model\")\n",
    "\n",
    "    #print(\"Polynominal pipeline: \" + str(mean_absolute_error(y_test, poly_preds)) + \"\\n\")\n",
    "    \"\"\""
   ]
  },
  {
   "cell_type": "markdown",
   "id": "4ad9ec29",
   "metadata": {},
   "source": [
    "## Compare old and new model"
   ]
  },
  {
   "cell_type": "code",
   "execution_count": 34,
   "id": "b11827ff",
   "metadata": {},
   "outputs": [
    {
     "name": "stdout",
     "output_type": "stream",
     "text": [
      "Mean absolute error from old model: 5.1771608740898625\n",
      "\n",
      "Mean absolute error from new model: 4.887145792628357\n",
      "\n"
     ]
    },
    {
     "data": {
      "text/plain": [
       "['New_best_model.joblib']"
      ]
     },
     "execution_count": 34,
     "metadata": {},
     "output_type": "execute_result"
    }
   ],
   "source": [
    "# Load and predict from old model\n",
    "old_model = joblib.load(\"Best_model.joblib\")\n",
    "old_preds = old_model.predict(X_test)\n",
    "print(\"Mean absolute error from old model: \" + str(mean_absolute_error(y_test, old_preds)) + \"\\n\")\n",
    "\n",
    "# Load and predict from new model\n",
    "new_model = polynominal_pipeline.fit(X_train, y_train)\n",
    "new_preds = new_model.predict(X_test)\n",
    "print(\"Mean absolute error from new model: \" + str(mean_absolute_error(y_test, new_preds)) + \"\\n\")"
   ]
  },
  {
   "cell_type": "markdown",
   "id": "7ed19a41",
   "metadata": {},
   "source": [
    "## Do forecasting with the best one"
   ]
  },
  {
   "cell_type": "code",
   "execution_count": 40,
   "id": "86f05f38",
   "metadata": {},
   "outputs": [
    {
     "data": {
      "text/plain": [
       "<AxesSubplot: xlabel='time'>"
      ]
     },
     "execution_count": 40,
     "metadata": {},
     "output_type": "execute_result"
    },
    {
     "data": {
      "image/png": "[encoded data removed]",
      "text/plain": [
       "<Figure size 640x480 with 1 Axes>"
      ]
     },
     "metadata": {},
     "output_type": "display_data"
    }
   ],
   "source": [
    "# Get all future forecasts regardless of lead time\n",
    "forecasts = client.query(\n",
    "    \"SELECT * FROM MetForecasts where time > now()\"\n",
    ") # Query written in InfluxQL\n",
    "for_df = get_df(forecasts)\n",
    "\n",
    "# Limit to only the newest source time\n",
    "newest_source_time = for_df[\"Source_time\"].max()\n",
    "newest_forecasts = for_df.loc[for_df[\"Source_time\"] == newest_source_time].copy()\n",
    "\n",
    "# Preprocess the forecasts and do predicitons in one fell swoop using your best pipeline\n",
    "best_model = joblib.load(\"New_best_model.joblib\")\n",
    "for_values = best_model.predict(newest_forecasts)\n",
    "\n",
    "\n",
    "\n",
    "newest_forecasts[\"Predicted_Total\"] = for_values\n",
    "newest_forecasts.plot(y=[\"Predicted_Total\"])"
   ]
  }
 ],
 "metadata": {
  "kernelspec": {
   "display_name": "Python 3 (ipykernel)",
   "language": "python",
   "name": "python3"
  },
  "language_info": {
   "codemirror_mode": {
    "name": "ipython",
    "version": 3
   },
   "file_extension": ".py",
   "mimetype": "text/x-python",
   "name": "python",
   "nbconvert_exporter": "python",
   "pygments_lexer": "ipython3",
   "version": "3.10.9"
  }
 },
 "nbformat": 4,
 "nbformat_minor": 5
}
